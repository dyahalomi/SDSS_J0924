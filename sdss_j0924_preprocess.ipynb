{
 "cells": [
  {
   "cell_type": "code",
   "execution_count": 1,
   "metadata": {},
   "outputs": [],
   "source": [
    "import numpy as np\n",
    "import matplotlib.pyplot as plt\n",
    "import pandas as pd\n",
    "import scipy.integrate as integrate\n",
    "import matplotlib\n",
    "matplotlib.rc('xtick', labelsize=23) \n",
    "matplotlib.rc('ytick', labelsize=23) "
   ]
  },
  {
   "cell_type": "markdown",
   "metadata": {},
   "source": [
    "The macro-magntifications mu are 1/[(1 - kappa)^2 - gamma^2] <br>\n",
    "<br>\n",
    "So the macro-predictions are -2.5log(mu) + unmagnified apparent magnitude of quasar. <br>\n",
    "<br>\n",
    "  A          B         C        D <br>\n",
    " 1.03E-01  1.68E+00  2.86E+00  3.11E+00<br>\n",
    "  min        min      saddle    saddle   3 mag <=> factor of 16.<br>\n",
    "<br>\n",
    "If A were magnitfied by 12.6936, D would be magnified by<br>\n",
    "less than 1, meaning no micro-minima.  Same story for C.<br>\n",
    "But A is probably micro-magnified.<br>\n",
    "<br>\n",
    "<br>\n",
    "Here are kappas and gammas for its four images:<br>\n",
    "        x             y           kappa         gamma<br>\n",
    " A -1.934633e-03  2.842221e-03  4.747815e-01  4.439307e-01  1.327487e+01<br>\n",
    " B -4.226144e-02 -1.804457e+00  4.259092e-01  3.893498e-01 -1.390233e+01<br>\n",
    " C  9.607647e-01 -6.935695e-01  5.720462e-01  6.038433e-01 -7.918971e+01<br>\n",
    " D -5.425104e-01 -4.143636e-01  5.331661e-01  5.572576e-01  6.000388e+01<br>"
   ]
  },
  {
   "cell_type": "markdown",
   "metadata": {},
   "source": [
    "Stellar fraction — do (.1,.2,.5 and 1) or (.1, .3, 1)\n",
    "_____\n",
    "______\n"
   ]
  },
  {
   "cell_type": "markdown",
   "metadata": {},
   "source": [
    "0_ signifies kappa_star / kappa_tot = 0.01 * (10^0.1)^0 = 0.01 <br>\n",
    "1_ signifies kappa_star / kappa_tot = 0.01 * (10^0.1)^1 <br>\n",
    "2_ signifies kappa_star / kappa_tot = 0.01 * (10^0.1)^2 <br>\n",
    "... <br>\n",
    "10_ signifies kappa_star / kappa_tot = 0.01 * (10^0.1)^10 = 0.1 <br>\n",
    "... <br>\n",
    "20_ signifies kappa_star / kappa_tot = 0.01 * (10^0.1)^20 = 1\n",
    "\n",
    "<br>\n",
    "<br>\n",
    "10% ~ 0.01 * (10^0.1)^10 = 0.1000 <br>\n",
    "20% ~ 0.01 * (10^0.1)^13 = 0.1995 <br>\n",
    "30% ~ 0.01 * (10^0.1)^15 = 0.3162 <br>\n",
    "50% ~ 0.01 * (10^0.1)^17 = 0.5012 <br>\n",
    "100% ~ 0.01 * (10^0.1)^20 = 1.000 <br>"
   ]
  },
  {
   "cell_type": "code",
   "execution_count": 2,
   "metadata": {},
   "outputs": [],
   "source": [
    "filenames = [\n",
    "'15_col1_numminima_col2_numrays_col3_counts.txt'\n",
    "]\n",
    "\n",
    "\n",
    "foldernames = [\n",
    "'kappa_0.474782_gamma_0.443931',\n",
    "'kappa_0.425909_gamma_0.38935',\n",
    "'kappa_0.572046_gamma_0.603843',\n",
    "'kappa_0.533166_gamma_0.557258'\n",
    "]"
   ]
  },
  {
   "cell_type": "markdown",
   "metadata": {},
   "source": [
    "## import data"
   ]
  },
  {
   "cell_type": "code",
   "execution_count": 8,
   "metadata": {},
   "outputs": [],
   "source": [
    "data_zero = [[], [], [], []]\n",
    "data_all = [[], [], [], []]\n",
    "\n",
    "for ii in range(0, len(foldernames)):\n",
    "    folder = foldernames[ii]\n",
    "    for jj in range(0, len(filenames)):\n",
    "        file = filenames[jj]\n",
    "        dataset = pd.read_csv('sim_files/' + folder + '/' + file, dtype = int, delimiter = ' ', header = None)\n",
    "        dataset.columns = ['micro-minima', 'number of rays', 'count']\n",
    "        \n",
    "        data_zero[ii] = dataset[dataset['micro-minima'] == 0]\n",
    "        summed_rays = dataset.groupby('number of rays')['count'].sum()\n",
    "        data_all[ii] = pd.DataFrame({'number of rays':summed_rays.index, 'count':summed_rays.values})\n",
    "\n",
    "        \n",
    "  \n"
   ]
  },
  {
   "cell_type": "code",
   "execution_count": 9,
   "metadata": {},
   "outputs": [],
   "source": [
    "def find_mag_zero_point(dataset):\n",
    "    nrays = dataset['number of rays']\n",
    "    pixels = dataset['count']\n",
    "    avg = np.sum(nrays*pixels) / np.sum(pixels)\n",
    "    #avg = np.average(nrays, weights = pixels)\n",
    "    print(avg)\n",
    "    return -2.5*np.log10(avg)"
   ]
  },
  {
   "cell_type": "code",
   "execution_count": 12,
   "metadata": {},
   "outputs": [
    {
     "name": "stdout",
     "output_type": "stream",
     "text": [
      "1032.207545375\n",
      "-7.534417573530118\n",
      "1017.6827494375\n",
      "-7.519031032324756\n",
      "989.9053816875\n",
      "-7.488984213325174\n",
      "934.1365139375\n",
      "-7.426025870761136\n"
     ]
    }
   ],
   "source": [
    "for ii in range(0, 4):\n",
    "    print(find_mag_zero_point(data_all[ii]))"
   ]
  },
  {
   "cell_type": "markdown",
   "metadata": {},
   "source": [
    "#### make sure that the 6 datasets each have the same minimum and maximum value in \"number of rays\" space so that when we switch to magnitude space the distributions are spaced correctly"
   ]
  },
  {
   "cell_type": "code",
   "execution_count": 13,
   "metadata": {},
   "outputs": [
    {
     "name": "stdout",
     "output_type": "stream",
     "text": [
      "46 68637\n",
      "220 22688\n",
      "405 33556\n",
      "59 68637\n",
      "46 40747\n",
      "59 49824\n"
     ]
    },
    {
     "name": "stderr",
     "output_type": "stream",
     "text": [
      "/Users/Danielyahalomi/anaconda3/lib/python3.6/site-packages/pandas/core/frame.py:6692: FutureWarning: Sorting because non-concatenation axis is not aligned. A future version\n",
      "of pandas will change to not sort by default.\n",
      "\n",
      "To accept the future behavior, pass 'sort=False'.\n",
      "\n",
      "To retain the current behavior and silence the warning, pass 'sort=True'.\n",
      "\n",
      "  sort=sort)\n"
     ]
    },
    {
     "name": "stdout",
     "output_type": "stream",
     "text": [
      "46 32802\n"
     ]
    }
   ],
   "source": [
    "\n",
    "min_rays = np.inf\n",
    "max_rays = -np.inf\n",
    "for dataset in data_all:\n",
    "    if np.min(dataset['number of rays']) < min_rays:\n",
    "        min_rays = np.min(dataset['number of rays'])\n",
    "    \n",
    "    if np.max(dataset['number of rays']) > max_rays:\n",
    "        max_rays = np.max(dataset['number of rays'])\n",
    "        \n",
    "print(min_rays, max_rays)\n",
    "nrays_array = np.arange(min_rays,max_rays+1,1)\n",
    "for ii in range(0, len(data_all)):\n",
    "    dataset = data_all[ii]\n",
    "    print(np.min(dataset['number of rays']), np.max(dataset['number of rays']))\n",
    "    for nrays in nrays_array:\n",
    "        if nrays not in dataset['number of rays']:\n",
    "            data_all[ii] = data_all[ii].append(pd.DataFrame({'number of rays':[nrays], 'count':[0]}))\n",
    "            \n",
    "\n",
    "for ii in range(2, len(data_zero)):\n",
    "    dataset = data_zero[ii]\n",
    "    print(np.min(dataset['number of rays']), np.max(dataset['number of rays']))\n",
    "    for nrays in nrays_array:\n",
    "        if nrays not in dataset['number of rays']:\n",
    "            data_zero[ii] = data_zero[ii].append(pd.DataFrame({'number of rays':[nrays], 'count':[0]}))\n",
    "            \n"
   ]
  },
  {
   "cell_type": "markdown",
   "metadata": {},
   "source": [
    "#### make an initial plot of our data in number of rays vs. count space\n",
    "\n",
    "Maybe the best way to think about this is to consider 0 for D (all for \n",
    "the rest) and all for D (and the rest) and just take the ratio.\n",
    "Likewise 0 and all for C.  And finally 0 for C *and* 0 for D and all for\n",
    "the A&B and then simply all and again take the ratio.  Altogether\n",
    "4 cases:  uno) 0 for D  dos: 0 for C tres:  0 for both quatro:  All.\n",
    "uno/quatro gives probability that D is in the ground state.  Likewise\n",
    "duo/quatro.  And tres/quatro gives the probability that both are.\n",
    "\n",
    "let's plot these 4 combinations in # of pixel vs. count space\n",
    "\n",
    "------\n",
    "-------"
   ]
  },
  {
   "cell_type": "code",
   "execution_count": 14,
   "metadata": {},
   "outputs": [
    {
     "data": {
      "text/plain": [
       "[<matplotlib.lines.Line2D at 0x7fe6758b8438>]"
      ]
     },
     "execution_count": 14,
     "metadata": {},
     "output_type": "execute_result"
    },
    {
     "data": {
      "image/png": "[encoded data removed]",
      "text/plain": [
       "<Figure size 648x504 with 1 Axes>"
      ]
     },
     "metadata": {
      "needs_background": "light"
     },
     "output_type": "display_data"
    }
   ],
   "source": [
    "colors = ['#ff9967', '#012f98', '#73eaaf', '#5a0040']\n",
    "fig, ax = plt.subplots(1, figsize = [9,7])\n",
    "\n",
    "\n",
    "ax.plot(data_all[0]['number of rays'], data_all[0]['count'], linewidth = 3, color = colors[0], linestyle = 'solid')\n",
    "ax.plot(data_all[1]['number of rays'], data_all[1]['count'], linewidth = 3, color = colors[1], linestyle = 'solid')\n",
    "ax.plot(data_all[2]['number of rays'], data_all[2]['count'], linewidth = 3, color = colors[2], linestyle = 'solid')\n",
    "ax.plot(data_all[3]['number of rays'], data_all[3]['count'], linewidth = 3, color = colors[3], linestyle = 'solid')"
   ]
  },
  {
   "cell_type": "code",
   "execution_count": 15,
   "metadata": {},
   "outputs": [
    {
     "data": {
      "text/plain": [
       "[<matplotlib.lines.Line2D at 0x7fe6761e41d0>]"
      ]
     },
     "execution_count": 15,
     "metadata": {},
     "output_type": "execute_result"
    },
    {
     "data": {
      "image/png": "[encoded data removed]",
      "text/plain": [
       "<Figure size 648x504 with 1 Axes>"
      ]
     },
     "metadata": {
      "needs_background": "light"
     },
     "output_type": "display_data"
    }
   ],
   "source": [
    "colors = ['#ff9967', '#012f98', '#73eaaf', '#5a0040']\n",
    "fig, ax = plt.subplots(1, figsize = [9,7])\n",
    "\n",
    "\n",
    "ax.plot(data_all[0]['number of rays'], data_all[0]['count'], linewidth = 3, color = colors[0], linestyle = 'solid')\n",
    "ax.plot(data_all[1]['number of rays'], data_all[1]['count'], linewidth = 3, color = colors[1], linestyle = 'solid')\n",
    "ax.plot(data_zero[2]['number of rays'], data_zero[2]['count'], linewidth = 3, color = colors[2], linestyle = 'solid')\n",
    "ax.plot(data_all[3]['number of rays'], data_all[3]['count'], linewidth = 3, color = colors[3], linestyle = 'solid')\n"
   ]
  },
  {
   "cell_type": "code",
   "execution_count": 16,
   "metadata": {},
   "outputs": [
    {
     "data": {
      "text/plain": [
       "[<matplotlib.lines.Line2D at 0x7fe676332048>]"
      ]
     },
     "execution_count": 16,
     "metadata": {},
     "output_type": "execute_result"
    },
    {
     "data": {
      "image/png": "[encoded data removed]",
      "text/plain": [
       "<Figure size 648x504 with 1 Axes>"
      ]
     },
     "metadata": {
      "needs_background": "light"
     },
     "output_type": "display_data"
    }
   ],
   "source": [
    "colors = ['#ff9967', '#012f98', '#73eaaf', '#5a0040']\n",
    "fig, ax = plt.subplots(1, figsize = [9,7])\n",
    "\n",
    "\n",
    "ax.plot(data_all[0]['number of rays'], data_all[0]['count'], linewidth = 3, color = colors[0], linestyle = 'solid')\n",
    "ax.plot(data_all[1]['number of rays'], data_all[1]['count'], linewidth = 3, color = colors[1], linestyle = 'solid')\n",
    "ax.plot(data_all[2]['number of rays'], data_all[2]['count'], linewidth = 3, color = colors[2], linestyle = 'solid')\n",
    "ax.plot(data_zero[3]['number of rays'], data_zero[3]['count'], linewidth = 3, color = colors[3], linestyle = 'solid')"
   ]
  },
  {
   "cell_type": "code",
   "execution_count": 17,
   "metadata": {},
   "outputs": [
    {
     "data": {
      "text/plain": [
       "[<matplotlib.lines.Line2D at 0x7fe67656f208>]"
      ]
     },
     "execution_count": 17,
     "metadata": {},
     "output_type": "execute_result"
    },
    {
     "data": {
      "image/png": "[encoded data removed]",
      "text/plain": [
       "<Figure size 648x504 with 1 Axes>"
      ]
     },
     "metadata": {
      "needs_background": "light"
     },
     "output_type": "display_data"
    }
   ],
   "source": [
    "colors = ['#ff9967', '#012f98', '#73eaaf', '#5a0040']\n",
    "fig, ax = plt.subplots(1, figsize = [9,7])\n",
    "\n",
    "\n",
    "ax.plot(data_all[0]['number of rays'], data_all[0]['count'], linewidth = 3, color = colors[0], linestyle = 'solid')\n",
    "ax.plot(data_all[1]['number of rays'], data_all[1]['count'], linewidth = 3, color = colors[1], linestyle = 'solid')\n",
    "ax.plot(data_zero[2]['number of rays'], data_zero[2]['count'], linewidth = 3, color = colors[2], linestyle = 'solid')\n",
    "ax.plot(data_zero[3]['number of rays'], data_zero[3]['count'], linewidth = 3, color = colors[3], linestyle = 'solid')"
   ]
  },
  {
   "cell_type": "markdown",
   "metadata": {},
   "source": [
    "### these plots don't really tell us much, as we must convert to magnitude space and normalize the data\n",
    "\n",
    "#### let's do that!"
   ]
  },
  {
   "cell_type": "markdown",
   "metadata": {},
   "source": [
    "From Luke Weisenbach: <br>\n",
    "The mean number of rays per pixel = 1000 is exact and is what one would get given the ray density in the image plane if all the matter was smooth. The simulated mean will fluctuate around that a bit due to using a finite field of stars/finite source plane region. Use 1000 for calibrating magnifications"
   ]
  },
  {
   "cell_type": "code",
   "execution_count": 18,
   "metadata": {},
   "outputs": [
    {
     "name": "stdout",
     "output_type": "stream",
     "text": [
      "[-7.5, -7.5, -7.5, -7.5]\n"
     ]
    }
   ],
   "source": [
    "# data_mag_all will contain magnitude pdf's for image A,B,C,D at 30% stellar for case with all # micro-minima\n",
    "data_zero_points = []\n",
    "\n",
    "for dataset in data_all:\n",
    "    dataset_zero = -2.5*np.log10(1000)\n",
    "    data_zero_points.append(dataset_zero)\n",
    "    \n",
    "print(data_zero_points)"
   ]
  },
  {
   "cell_type": "code",
   "execution_count": 19,
   "metadata": {},
   "outputs": [],
   "source": [
    "#returns the nearest element in an array from a given value\n",
    "def find_nearest(array, value):\n",
    "    index = (np.abs(array - value)).argmin()\n",
    "    return array[index]"
   ]
  },
  {
   "cell_type": "code",
   "execution_count": 24,
   "metadata": {},
   "outputs": [],
   "source": [
    "#this is a complicated function, but the fundamental goal here is to convert to magnitude space\n",
    "#it get's complicated because we must \"bin\" in magnitude space practically as we have integer\n",
    "#steps in number of rays space. these integer steps won't translate perfectly to the magnitude\n",
    "#space bins. so, in order convert to magnitude space, we setup our magnitude bins and step through the\n",
    "#number of rays space, and divide the proportion of the number of rays into the relevant bins by the proportion\n",
    "#of the bin that it covers\n",
    "\n",
    "def bin_to_magnitude_space_all(dataset, binsize_mag = 1./256.):\n",
    "    nrays_array = dataset['number of rays'].values\n",
    "    count_array = dataset['count'].values\n",
    "    mag_zero_point = -2.5*np.log10(1000)\n",
    "    print(mag_zero_point)\n",
    "    \n",
    "    #initialize the output pandas dataframe\n",
    "    dataset_mag = pd.DataFrame(columns = ['magnitude', 'count'])\n",
    "    \n",
    "    nrays_min = nrays_array.min()\n",
    "    nrays_max = nrays_array.max()\n",
    "    mag_min = -2.5*np.log10(nrays_max)\n",
    "    mag_max = -2.5*np.log10(nrays_min)\n",
    "\n",
    "    #define magnitude bins\n",
    "    mag_bins = np.arange(mag_min, mag_max, binsize_mag)\n",
    "    for mag in mag_bins:        \n",
    "        dataset_mag.loc[len(dataset_mag.index)] = [mag, 0]\n",
    "    \n",
    "    \n",
    "    #step through number of rays (integer) space\n",
    "    for ii in range(0, len(nrays_array)):\n",
    "        count = count_array[ii]\n",
    "\n",
    "        \n",
    "        #determine the middle, left, and right location of the current number of rays bin\n",
    "        nrays_middle = nrays_array[ii]\n",
    "        nrays_left = nrays_array[ii]-0.5\n",
    "        nrays_right = nrays_array[ii]+0.5\n",
    "        \n",
    "        #convert this to magnitude space\n",
    "        int_middle = -2.5*np.log10(nrays_middle)\n",
    "        int_left = -2.5*np.log10(nrays_left)\n",
    "        int_right = -2.5*np.log10(nrays_right)\n",
    "        \n",
    "        \n",
    "        #find the nearest magnitude bin that corresponds to the middle of the number of rays in mag space\n",
    "        #define the left and right cutoff for several bins to the left and right in case of spillover\n",
    "        mag_middle = find_nearest(mag_bins, int_middle)\n",
    "        mag_left = mag_middle + (binsize_mag/2.)\n",
    "        next1_mag_left = mag_middle + (3*binsize_mag/2.)\n",
    "        next2_mag_left = mag_middle + (5*binsize_mag/2.)\n",
    "        next3_mag_left = mag_middle + (7*binsize_mag/2.)\n",
    "        \n",
    "        mag_right = mag_middle - (binsize_mag/2.)\n",
    "        next1_mag_right = mag_middle - (3*binsize_mag/2.)\n",
    "        next2_mag_right = mag_middle - (5*binsize_mag/2.)\n",
    "        next3_mag_right = mag_middle - (7*binsize_mag/2.)\n",
    "            \n",
    "        \n",
    "        #determine the fraction of the count to be placed in the each magnitude bin\n",
    "        frac_next2_left, frac_next1_left, frac_left, frac_middle, frac_right, frac_next1_right, frac_next2_right = None, None, None, None, None, None, None\n",
    "        if int_left - mag_middle > mag_left - mag_middle:\n",
    "            if int_right - mag_middle < mag_right - mag_middle:\n",
    "                frac_middle = 1\n",
    "            if int_left - mag_middle > next1_mag_left - mag_middle:\n",
    "                if int_left - mag_middle > next2_mag_left - mag_middle:\n",
    "                    frac_next2_left = ((int_left-next2_mag_left)/(next3_mag_left-next2_mag_left))\n",
    "                    frac_next1_left = 1\n",
    "                    frac_left = 1\n",
    "                \n",
    "                else:\n",
    "                    frac_next1_left = ((int_left-next1_mag_left)/(next2_mag_left-next1_mag_left))\n",
    "                    frac_left = 1\n",
    "                    \n",
    "            else:\n",
    "                frac_left = ((int_left-mag_left)/(next1_mag_left-mag_left))\n",
    "                \n",
    "            if int_right - mag_middle > mag_right - mag_middle:\n",
    "                frac_middle = ((int_right-mag_left)/(mag_right-mag_left))\n",
    "            \n",
    "            \n",
    "                    \n",
    "                    \n",
    "        if int_right - mag_middle < mag_right - mag_middle:\n",
    "            if int_right - mag_middle < next1_mag_right - mag_middle:\n",
    "                if int_right - mag_middle < next2_mag_right - mag_middle:\n",
    "                    frac_next2_right = ((int_right-next2_mag_right)/(next3_mag_right-next2_mag_right))\n",
    "                    frac_next1_right = 1\n",
    "                    frac_right = 1\n",
    "                \n",
    "                else:\n",
    "                    frac_next1_right = ((int_right-next1_mag_right)/(next2_mag_right-next1_mag_right))\n",
    "                    frac_right = 1\n",
    "                        \n",
    "            else:\n",
    "                frac_right = ((int_right-mag_right)/(next1_mag_right-mag_right))\n",
    "                              \n",
    "            if int_left - mag_middle < mag_left - mag_middle:\n",
    "                frac_middle = ((int_left-mag_right)/(mag_left-mag_right))\n",
    "                \n",
    "        elif int_left - mag_middle < mag_left - mag_middle:\n",
    "            frac_middle = ((int_left-int_right)/(mag_left-mag_right))\n",
    "            \n",
    "\n",
    "            \n",
    "        if frac_next2_left == None:\n",
    "            frac_next2_left = 0\n",
    "            \n",
    "        if frac_next1_left == None:\n",
    "            frac_next1_left = 0\n",
    "        \n",
    "        if frac_left == None:\n",
    "            frac_left = 0\n",
    "        \n",
    "        if frac_right == None:\n",
    "            frac_right = 0\n",
    "        \n",
    "        if frac_next1_right == None:\n",
    "            frac_next1_right = 0\n",
    "        \n",
    "        if frac_next2_right == None:\n",
    "            frac_next2_right = 0\n",
    "            \n",
    "            \n",
    "    \n",
    "        #make an array of the proportion of the count per bin\n",
    "        proportions = np.array([frac_next2_left, frac_next1_left, frac_left, frac_middle, frac_right, frac_next1_right, frac_next2_right]) \n",
    "        \n",
    "        #if true, you need another bin in magnitude space\n",
    "        if proportions.any() > 1:\n",
    "            print(\"error, fraction greater than 1!\")\n",
    "        \n",
    "        \n",
    "        total = np.sum(proportions)\n",
    "        proportions = proportions/total        \n",
    "\n",
    "        counts_per_bin = count*proportions\n",
    "        \n",
    "        #make our output pandas dataframe\n",
    "        dataset_mag.loc[dataset_mag.magnitude == mag_middle+3*binsize_mag, 'count'] += counts_per_bin[0]\n",
    "        dataset_mag.loc[dataset_mag.magnitude == mag_middle+2*binsize_mag, 'count'] += counts_per_bin[1]\n",
    "        dataset_mag.loc[dataset_mag.magnitude == mag_middle+binsize_mag, 'count'] += counts_per_bin[2]\n",
    "\n",
    "        dataset_mag.loc[dataset_mag.magnitude == mag_middle, 'count'] += counts_per_bin[3]\n",
    "\n",
    "        dataset_mag.loc[dataset_mag.magnitude == mag_middle-binsize_mag, 'count'] += counts_per_bin[4]\n",
    "        dataset_mag.loc[dataset_mag.magnitude == mag_middle-2*binsize_mag, 'count'] += counts_per_bin[5]\n",
    "        dataset_mag.loc[dataset_mag.magnitude == mag_middle-3*binsize_mag, 'count'] += counts_per_bin[6]\n",
    "        \n",
    "        \n",
    "        dataset_mag['normalized count'] = dataset_mag['count'] / integrate.simps(dataset_mag['count'], x = dataset_mag['magnitude'])\n",
    "        dataset_mag['shifted magnitude'] = dataset_mag['magnitude'] - mag_zero_point\n",
    "        \n",
    "        normalization = integrate.simps(dataset_mag['count'], x = dataset_mag['magnitude'])\n",
    "\n",
    "\n",
    "    return dataset_mag, normalization\n",
    "            \n",
    "            \n",
    "            \n",
    "\n",
    "        \n",
    "        "
   ]
  },
  {
   "cell_type": "markdown",
   "metadata": {},
   "source": [
    "## below takes a lot of time to run --> skip if not needed"
   ]
  },
  {
   "cell_type": "code",
   "execution_count": 26,
   "metadata": {},
   "outputs": [
    {
     "name": "stdout",
     "output_type": "stream",
     "text": [
      "-7.5\n",
      "-7.5\n",
      "-7.5\n",
      "-7.5\n"
     ]
    }
   ],
   "source": [
    "# data_mag_all will contain magnitude pdf's for image A,B,C,D at 30% stellar for case with all # micro-minima\n",
    "data_mag_all = []\n",
    "normalization_all = []\n",
    "\n",
    "for dataset in data_all:\n",
    "    dataset_mag = bin_to_magnitude_space_all(dataset, binsize_mag = 1./256.)\n",
    "    data_mag_all.append(dataset_mag[0])\n",
    "    normalization_all.append(dataset_mag[1])\n"
   ]
  },
  {
   "cell_type": "code",
   "execution_count": 28,
   "metadata": {},
   "outputs": [],
   "source": [
    "#this is a complicated function, but the fundamental goal here is to convert to magnitude space\n",
    "#it get's complicated because we must \"bin\" in magnitude space practically as we have integer\n",
    "#steps in number of rays space. these integer steps won't translate perfectly to the magnitude\n",
    "#space bins. so, in order convert to magnitude space, we setup our magnitude bins and step through the\n",
    "#number of rays space, and divide the proportion of the number of rays into the relevant bins by the proportion\n",
    "#of the bin that it covers\n",
    "\n",
    "def bin_to_magnitude_space_zero(dataset, normalization, binsize_mag = 1./256.):\n",
    "    nrays_array = dataset['number of rays'].values\n",
    "    count_array = dataset['count'].values\n",
    "    mag_zero_point = -2.5*np.log10(1000)\n",
    "    print(mag_zero_point)\n",
    "    \n",
    "    #initialize the output pandas dataframe\n",
    "    dataset_mag = pd.DataFrame(columns = ['magnitude', 'count'])\n",
    "    \n",
    "    nrays_min = nrays_array.min()\n",
    "    nrays_max = nrays_array.max()\n",
    "    mag_min = -2.5*np.log10(nrays_max)\n",
    "    mag_max = -2.5*np.log10(nrays_min)\n",
    "\n",
    "    #define magnitude bins\n",
    "    mag_bins = np.arange(mag_min, mag_max, binsize_mag)\n",
    "    for mag in mag_bins:        \n",
    "        dataset_mag.loc[len(dataset_mag.index)] = [mag, 0]\n",
    "    \n",
    "    \n",
    "    #step through number of rays (integer) space\n",
    "    for ii in range(0, len(nrays_array)):\n",
    "        count = count_array[ii]\n",
    "\n",
    "        \n",
    "        #determine the middle, left, and right location of the current number of rays bin\n",
    "        nrays_middle = nrays_array[ii]\n",
    "        nrays_left = nrays_array[ii]-0.5\n",
    "        nrays_right = nrays_array[ii]+0.5\n",
    "        \n",
    "        #convert this to magnitude space\n",
    "        int_middle = -2.5*np.log10(nrays_middle)\n",
    "        int_left = -2.5*np.log10(nrays_left)\n",
    "        int_right = -2.5*np.log10(nrays_right)\n",
    "        \n",
    "        \n",
    "        #find the nearest magnitude bin that corresponds to the middle of the number of rays in mag space\n",
    "        #define the left and right cutoff for several bins to the left and right in case of spillover\n",
    "        mag_middle = find_nearest(mag_bins, int_middle)\n",
    "        mag_left = mag_middle + (binsize_mag/2.)\n",
    "        next1_mag_left = mag_middle + (3*binsize_mag/2.)\n",
    "        next2_mag_left = mag_middle + (5*binsize_mag/2.)\n",
    "        next3_mag_left = mag_middle + (7*binsize_mag/2.)\n",
    "        \n",
    "        mag_right = mag_middle - (binsize_mag/2.)\n",
    "        next1_mag_right = mag_middle - (3*binsize_mag/2.)\n",
    "        next2_mag_right = mag_middle - (5*binsize_mag/2.)\n",
    "        next3_mag_right = mag_middle - (7*binsize_mag/2.)\n",
    "            \n",
    "        \n",
    "        #determine the fraction of the count to be placed in the each magnitude bin\n",
    "        frac_next2_left, frac_next1_left, frac_left, frac_middle, frac_right, frac_next1_right, frac_next2_right = None, None, None, None, None, None, None\n",
    "        if int_left - mag_middle > mag_left - mag_middle:\n",
    "            if int_right - mag_middle < mag_right - mag_middle:\n",
    "                frac_middle = 1\n",
    "            if int_left - mag_middle > next1_mag_left - mag_middle:\n",
    "                if int_left - mag_middle > next2_mag_left - mag_middle:\n",
    "                    frac_next2_left = ((int_left-next2_mag_left)/(next3_mag_left-next2_mag_left))\n",
    "                    frac_next1_left = 1\n",
    "                    frac_left = 1\n",
    "                \n",
    "                else:\n",
    "                    frac_next1_left = ((int_left-next1_mag_left)/(next2_mag_left-next1_mag_left))\n",
    "                    frac_left = 1\n",
    "                    \n",
    "            else:\n",
    "                frac_left = ((int_left-mag_left)/(next1_mag_left-mag_left))\n",
    "                \n",
    "            if int_right - mag_middle > mag_right - mag_middle:\n",
    "                frac_middle = ((int_right-mag_left)/(mag_right-mag_left))\n",
    "            \n",
    "            \n",
    "                    \n",
    "                    \n",
    "        if int_right - mag_middle < mag_right - mag_middle:\n",
    "            if int_right - mag_middle < next1_mag_right - mag_middle:\n",
    "                if int_right - mag_middle < next2_mag_right - mag_middle:\n",
    "                    frac_next2_right = ((int_right-next2_mag_right)/(next3_mag_right-next2_mag_right))\n",
    "                    frac_next1_right = 1\n",
    "                    frac_right = 1\n",
    "                \n",
    "                else:\n",
    "                    frac_next1_right = ((int_right-next1_mag_right)/(next2_mag_right-next1_mag_right))\n",
    "                    frac_right = 1\n",
    "                        \n",
    "            else:\n",
    "                frac_right = ((int_right-mag_right)/(next1_mag_right-mag_right))\n",
    "                              \n",
    "            if int_left - mag_middle < mag_left - mag_middle:\n",
    "                frac_middle = ((int_left-mag_right)/(mag_left-mag_right))\n",
    "                \n",
    "        elif int_left - mag_middle < mag_left - mag_middle:\n",
    "            frac_middle = ((int_left-int_right)/(mag_left-mag_right))\n",
    "            \n",
    "\n",
    "            \n",
    "        if frac_next2_left == None:\n",
    "            frac_next2_left = 0\n",
    "            \n",
    "        if frac_next1_left == None:\n",
    "            frac_next1_left = 0\n",
    "        \n",
    "        if frac_left == None:\n",
    "            frac_left = 0\n",
    "        \n",
    "        if frac_right == None:\n",
    "            frac_right = 0\n",
    "        \n",
    "        if frac_next1_right == None:\n",
    "            frac_next1_right = 0\n",
    "        \n",
    "        if frac_next2_right == None:\n",
    "            frac_next2_right = 0\n",
    "            \n",
    "            \n",
    "    \n",
    "        #make an array of the proportion of the count per bin\n",
    "        proportions = np.array([frac_next2_left, frac_next1_left, frac_left, frac_middle, frac_right, frac_next1_right, frac_next2_right]) \n",
    "        \n",
    "        #if true, you need another bin in magnitude space\n",
    "        if proportions.any() > 1:\n",
    "            print(\"error, fraction greater than 1!\")\n",
    "        \n",
    "        \n",
    "        total = np.sum(proportions)\n",
    "        proportions = proportions/total        \n",
    "\n",
    "        counts_per_bin = count*proportions\n",
    "        \n",
    "        #make our output pandas dataframe\n",
    "        dataset_mag.loc[dataset_mag.magnitude == mag_middle+3*binsize_mag, 'count'] += counts_per_bin[0]\n",
    "        dataset_mag.loc[dataset_mag.magnitude == mag_middle+2*binsize_mag, 'count'] += counts_per_bin[1]\n",
    "        dataset_mag.loc[dataset_mag.magnitude == mag_middle+binsize_mag, 'count'] += counts_per_bin[2]\n",
    "\n",
    "        dataset_mag.loc[dataset_mag.magnitude == mag_middle, 'count'] += counts_per_bin[3]\n",
    "\n",
    "        dataset_mag.loc[dataset_mag.magnitude == mag_middle-binsize_mag, 'count'] += counts_per_bin[4]\n",
    "        dataset_mag.loc[dataset_mag.magnitude == mag_middle-2*binsize_mag, 'count'] += counts_per_bin[5]\n",
    "        dataset_mag.loc[dataset_mag.magnitude == mag_middle-3*binsize_mag, 'count'] += counts_per_bin[6]\n",
    "        \n",
    "        \n",
    "        dataset_mag['normalized count'] = dataset_mag['count'] / normalization\n",
    "        dataset_mag['shifted magnitude'] = dataset_mag['magnitude'] - mag_zero_point\n",
    "        \n",
    "\n",
    "\n",
    "    return dataset_mag"
   ]
  },
  {
   "cell_type": "markdown",
   "metadata": {},
   "source": [
    "## below takes a lot of time to run --> skip if not needed"
   ]
  },
  {
   "cell_type": "code",
   "execution_count": 29,
   "metadata": {},
   "outputs": [
    {
     "name": "stdout",
     "output_type": "stream",
     "text": [
      "[62504.13259756738, 62498.131411247596, 62498.783692611316, 62499.99788609218]\n",
      "62498.783692611316\n",
      "-7.5\n",
      "62499.99788609218\n",
      "-7.5\n"
     ]
    }
   ],
   "source": [
    "#data_mag_zero will contain magnitude pdf's for image C,D at 30% stellar for case with only zero micro-minima\n",
    "data_mag_zero = []\n",
    "print(normalization_all)\n",
    "    \n",
    "for ii in range(2, len(data_zero)):\n",
    "    dataset = data_zero[ii]\n",
    "    norm = normalization_all[ii]\n",
    "    print(norm)\n",
    "    dataset_mag = bin_to_magnitude_space_zero(dataset, norm, binsize_mag = 1./256.)\n",
    "    data_mag_zero.append(dataset_mag)   "
   ]
  },
  {
   "cell_type": "code",
   "execution_count": 30,
   "metadata": {},
   "outputs": [
    {
     "name": "stdout",
     "output_type": "stream",
     "text": [
      "[3, 4]\n"
     ]
    }
   ],
   "source": [
    "a = [1,2,3,4]\n",
    "print(a[2:4])"
   ]
  },
  {
   "cell_type": "markdown",
   "metadata": {},
   "source": [
    "### save the magnitude space data"
   ]
  },
  {
   "cell_type": "code",
   "execution_count": 31,
   "metadata": {},
   "outputs": [],
   "source": [
    "all_filenames = ['a_all_stellar_30_may14', 'b_all_stellar_30_may14', 'c_all_stellar_30_may14', 'd_all_stellar_30_may14']\n",
    "\n",
    "for ii in range(0, len(data_mag_all)):\n",
    "    dataset = data_mag_all[ii]\n",
    "    filename = all_filenames[ii]\n",
    "    dataset.to_csv('./sim_data_magnitude/' + filename, index=False)\n",
    "    \n",
    "    \n",
    "zero_filenames = ['c_zero_stellar_30_may14', 'd_zero_stellar_30_may14']\n",
    "\n",
    "for ii in range(0, len(data_mag_zero)):\n",
    "    dataset = data_mag_zero[ii]\n",
    "    filename = zero_filenames[ii]\n",
    "    dataset.to_csv('./sim_data_magnitude/' + filename, index=False)"
   ]
  },
  {
   "cell_type": "code",
   "execution_count": null,
   "metadata": {},
   "outputs": [],
   "source": []
  },
  {
   "cell_type": "code",
   "execution_count": null,
   "metadata": {},
   "outputs": [],
   "source": []
  },
  {
   "cell_type": "code",
   "execution_count": null,
   "metadata": {},
   "outputs": [],
   "source": []
  },
  {
   "cell_type": "code",
   "execution_count": null,
   "metadata": {},
   "outputs": [],
   "source": []
  },
  {
   "cell_type": "code",
   "execution_count": null,
   "metadata": {},
   "outputs": [],
   "source": []
  },
  {
   "cell_type": "code",
   "execution_count": null,
   "metadata": {},
   "outputs": [],
   "source": [
    "###import data not as a pandas dataset\n",
    "\n",
    "micro_min = []\n",
    "nrays = []\n",
    "pixels = []\n",
    "\n",
    "for ii in range(0, len(foldernames)):\n",
    "    folder = foldernames[ii]\n",
    "    for jj in range(0, len(filenames)):\n",
    "        file = filenames[jj]\n",
    "        dataset = np.loadtxt('sim_files/' + folder + '/' + file, dtype = int, delimiter = ' ')\n",
    "        \n",
    "        micro_min.append(dataset[:,0])\n",
    "        nrays.append(dataset[:,1])\n",
    "        pixels.append(dataset[:,2])\n",
    "        \n",
    "\n",
    "nrays_zero = []\n",
    "pixels_zero = []\n",
    "\n",
    "data_all = [{},{},{},{}]\n",
    "for ii in range(0, 4):\n",
    "    for jj in range(0,len(micro_min[ii])):\n",
    "        data_all[ii][nrays[ii][jj]] = 0\n",
    "        \n",
    "\n",
    "for ii in range(0, 4):\n",
    "    for jj in range(0,len(micro_min[ii])):\n",
    "        if micro_min[ii][jj] == 0:\n",
    "            nrays_zero.append(nrays[ii][jj])\n",
    "            pixels_zero.append(pixels[ii][jj])\n",
    "            \n",
    "        \n",
    "        data_all[ii][nrays[ii][jj]] += pixels[ii][jj]\n",
    "        \n",
    "            \n",
    "        \n",
    "nrays_all = []\n",
    "pixels_all = []\n",
    "for dataset in data_all:\n",
    "    nrays_all.append(np.array(list(dataset.keys())))\n",
    "    pixels_all.append(np.array(list(dataset.values())))"
   ]
  }
 ],
 "metadata": {
  "kernelspec": {
   "display_name": "Python 3",
   "language": "python",
   "name": "python3"
  },
  "language_info": {
   "codemirror_mode": {
    "name": "ipython",
    "version": 3
   },
   "file_extension": ".py",
   "mimetype": "text/x-python",
   "name": "python",
   "nbconvert_exporter": "python",
   "pygments_lexer": "ipython3",
   "version": "3.6.8"
  }
 },
 "nbformat": 4,
 "nbformat_minor": 2
}
